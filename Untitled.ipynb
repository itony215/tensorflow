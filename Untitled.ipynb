{
 "cells": [
  {
   "cell_type": "code",
   "execution_count": 1,
   "metadata": {},
   "outputs": [
    {
     "ename": "ModuleNotFoundError",
     "evalue": "No module named 'SimpleITK'",
     "output_type": "error",
     "traceback": [
      "\u001b[0;31m---------------------------------------------------------------------------\u001b[0m",
      "\u001b[0;31mModuleNotFoundError\u001b[0m                       Traceback (most recent call last)",
      "\u001b[0;32m<ipython-input-1-eccb5c44bfa5>\u001b[0m in \u001b[0;36m<module>\u001b[0;34m()\u001b[0m\n\u001b[1;32m      9\u001b[0m \u001b[0;32mimport\u001b[0m \u001b[0mmatplotlib\u001b[0m\u001b[0;34m.\u001b[0m\u001b[0mpyplot\u001b[0m \u001b[0;32mas\u001b[0m \u001b[0mplt\u001b[0m\u001b[0;34m\u001b[0m\u001b[0m\n\u001b[1;32m     10\u001b[0m \u001b[0mget_ipython\u001b[0m\u001b[0;34m(\u001b[0m\u001b[0;34m)\u001b[0m\u001b[0;34m.\u001b[0m\u001b[0mmagic\u001b[0m\u001b[0;34m(\u001b[0m\u001b[0;34m'matplotlib inline'\u001b[0m\u001b[0;34m)\u001b[0m\u001b[0;34m\u001b[0m\u001b[0m\n\u001b[0;32m---> 11\u001b[0;31m \u001b[0;32mimport\u001b[0m \u001b[0mSimpleITK\u001b[0m \u001b[0;32mas\u001b[0m \u001b[0msitk\u001b[0m\u001b[0;34m\u001b[0m\u001b[0m\n\u001b[0m\u001b[1;32m     12\u001b[0m \u001b[0;32mfrom\u001b[0m \u001b[0mtime\u001b[0m \u001b[0;32mimport\u001b[0m \u001b[0mstrftime\u001b[0m\u001b[0;34m\u001b[0m\u001b[0m\n\u001b[1;32m     13\u001b[0m \u001b[0;34m\u001b[0m\u001b[0m\n",
      "\u001b[0;31mModuleNotFoundError\u001b[0m: No module named 'SimpleITK'"
     ]
    }
   ],
   "source": [
    "import csv\n",
    "import os\n",
    "import cv2\n",
    "import random\n",
    "import sys\n",
    "from datetime import datetime\n",
    "\n",
    "import numpy as np\n",
    "import matplotlib.pyplot as plt \n",
    "%matplotlib inline\n",
    "import SimpleITK as sitk\n",
    "from time import strftime\n",
    "\n",
    "def read_dcm_image(path):\n",
    "        ds = sitk.ReadImage(path)\n",
    "        img_array = sitk.GetArrayFromImage(ds)\n",
    "        return img_array[0]\n",
    "img =cv2.imread('lena.png',-1)   \n",
    "print(img.shape)\n",
    "'''\n",
    "    splity=[]\n",
    "    splitx=[]\n",
    "    howbig= random.randint(100,500)\n",
    "    print('howbig',howbig)\n",
    "    for i in range(img.shape[1]):\n",
    "        if( sum( img[:,i] )/img.shape[0] > howbig ):\n",
    "            splity.append(i)\n",
    "    #print(splity)\n",
    "    for i in range(img.shape[0]):\n",
    "        if( sum( img[i,:] )/img.shape[1] > howbig ):\n",
    "            splitx.append(i)\n",
    "    #print(splitx)\n",
    "    count=0\n",
    "    start=[]\n",
    "    find=[]\n",
    "    splitx.append(0)\n",
    "    for i in range(len(splitx)-1):\n",
    "        if splitx[i+1]-splitx[i]==1:\n",
    "            if count==0:\n",
    "                start.append(i)\n",
    "            count=count+1\n",
    "        else:\n",
    "            if count != 0:\n",
    "                find.append(count)\n",
    "                #print('x_len',count)\n",
    "            count=0\n",
    "    p=find.index(max(find)) \n",
    "    \n",
    "    county=0\n",
    "    starty=[]\n",
    "    findy=[]\n",
    "    splity.append(0)\n",
    "    for i in range(len(splity)-1):\n",
    "        if splity[i+1]-splity[i]==1:\n",
    "            if county==0:\n",
    "                starty.append(i)\n",
    "            county=county+1\n",
    "        else:\n",
    "            if county != 0:\n",
    "                findy.append(county)\n",
    "                #print('y_len',county)\n",
    "            county=0\n",
    "    py=findy.index(max(findy)) \n",
    "    print('x_start',start)\n",
    "    print('x_length',find)\n",
    "    print('y_start',starty)\n",
    "    print('y_length',findy)\n",
    "    print('start[p]',start[p])\n",
    "    print('start[p]+find[p]',start[p]+find[p])\n",
    "    print('starty[py]',starty[py])\n",
    "    print('starty[py]+findy[py]',starty[py]+findy[py])\n",
    "    cutimg=img[start[p]:start[p]+find[p],starty[py]:starty[py]+findy[py]]\n",
    "    \n",
    "    plt.imshow(cutimg ,cmap='gray')\n",
    "    plt.title('cut background image')\n",
    "    plt.axis('off')\n",
    "    plt.show()\n",
    "'''\n"
   ]
  },
  {
   "cell_type": "code",
   "execution_count": null,
   "metadata": {
    "collapsed": true
   },
   "outputs": [],
   "source": []
  },
  {
   "cell_type": "code",
   "execution_count": null,
   "metadata": {
    "collapsed": true
   },
   "outputs": [],
   "source": []
  }
 ],
 "metadata": {
  "kernelspec": {
   "display_name": "Python 3",
   "language": "python",
   "name": "python3"
  }
 },
 "nbformat": 4,
 "nbformat_minor": 2
}
